{
  "nbformat": 4,
  "nbformat_minor": 0,
  "metadata": {
    "colab": {
      "provenance": [],
      "collapsed_sections": []
    },
    "kernelspec": {
      "name": "python3",
      "display_name": "Python 3"
    },
    "language_info": {
      "name": "python"
    }
  },
  "cells": [
    {
      "cell_type": "code",
      "execution_count": 1,
      "metadata": {
        "colab": {
          "base_uri": "https://localhost:8080/"
        },
        "id": "oCt-7aeyzTdd",
        "outputId": "3a7b4bbd-5326-4830-9cb3-46f2330cf83c"
      },
      "outputs": [
        {
          "output_type": "stream",
          "name": "stdout",
          "text": [
            "<class 'int'>\n"
          ]
        }
      ],
      "source": [
        "# how to check the data types in python\n",
        "x = 10\n",
        "print (type(x))"
      ]
    },
    {
      "cell_type": "code",
      "source": [
        "# checking strings and float data types \n",
        "str = \"This is a string\"\n",
        "print(type(str))\n",
        "\n",
        "fl = 10.3\n",
        "print(type(fl))"
      ],
      "metadata": {
        "colab": {
          "base_uri": "https://localhost:8080/"
        },
        "id": "0XP9C9P10Vf4",
        "outputId": "6dbf4a8f-5f24-4663-e7c0-b3fd1553e1cd"
      },
      "execution_count": 3,
      "outputs": [
        {
          "output_type": "stream",
          "name": "stdout",
          "text": [
            "<class 'str'>\n",
            "<class 'float'>\n"
          ]
        }
      ]
    },
    {
      "cell_type": "code",
      "source": [
        "# checking complex datatypes \n",
        "complex_01 = 1j\n",
        "print(type(complex_01))"
      ],
      "metadata": {
        "colab": {
          "base_uri": "https://localhost:8080/"
        },
        "id": "dC1rxUco02KB",
        "outputId": "0cea43da-83f8-4f47-94d9-a9f718ff1d01"
      },
      "execution_count": 4,
      "outputs": [
        {
          "output_type": "stream",
          "name": "stdout",
          "text": [
            "<class 'complex'>\n"
          ]
        }
      ]
    },
    {
      "cell_type": "code",
      "source": [
        "# checking list\n",
        "x = [22,44,55,77]\n",
        "print(type(x))\n",
        "\n",
        "#  it will also print the same list  type rather than telling the list type whether it is a string list of list of a numbers\n",
        "y=[ \"Ali\" , \"Farooq\", \"Hamza\"]\n",
        "print(type(y))"
      ],
      "metadata": {
        "colab": {
          "base_uri": "https://localhost:8080/"
        },
        "id": "jdJndfOU1HnA",
        "outputId": "39af1208-d7ce-415a-f5e6-6ab2390fb87f"
      },
      "execution_count": 7,
      "outputs": [
        {
          "output_type": "stream",
          "name": "stdout",
          "text": [
            "<class 'list'>\n",
            "<class 'list'>\n"
          ]
        }
      ]
    },
    {
      "cell_type": "code",
      "source": [
        "# checking sets\n",
        "set_01 = set([11,22])\n",
        "print(type(set_01))\n",
        "\n",
        "# checking sets by other syntax \n",
        "x = {44,72,\"Hey\",82}\n",
        "print(type(x))"
      ],
      "metadata": {
        "colab": {
          "base_uri": "https://localhost:8080/"
        },
        "id": "UjrxK6VF1Tge",
        "outputId": "69f48f90-ad49-4a39-a537-b6b297caa3ca"
      },
      "execution_count": 9,
      "outputs": [
        {
          "output_type": "stream",
          "name": "stdout",
          "text": [
            "<class 'set'>\n",
            "<class 'set'>\n"
          ]
        }
      ]
    },
    {
      "cell_type": "code",
      "source": [
        "# checking tuple datatypes\n",
        "x = (\"Hey\" , \"Hey\" ,\"Welcome\" , \"XD\")\n",
        "print(type(x))"
      ],
      "metadata": {
        "colab": {
          "base_uri": "https://localhost:8080/"
        },
        "id": "mnGh9B1O3kMh",
        "outputId": "01d2b9ed-c934-4e57-b23a-84c704d73ebd"
      },
      "execution_count": 10,
      "outputs": [
        {
          "output_type": "stream",
          "name": "stdout",
          "text": [
            "<class 'tuple'>\n"
          ]
        }
      ]
    },
    {
      "cell_type": "code",
      "source": [
        "# checking dictionary \n",
        "dic_x = {\"Minhas\" : \"age is 21\" , \"Comsats \" :\"University\"}\n",
        "print(type(dic_x))"
      ],
      "metadata": {
        "colab": {
          "base_uri": "https://localhost:8080/"
        },
        "id": "7JDnEf6F37_S",
        "outputId": "af0e0e43-ef37-40ba-f54f-0aa5170f494a"
      },
      "execution_count": 12,
      "outputs": [
        {
          "output_type": "stream",
          "name": "stdout",
          "text": [
            "<class 'dict'>\n"
          ]
        }
      ]
    },
    {
      "cell_type": "code",
      "source": [
        "# checking boolean datatype\n",
        "x=True\n",
        "print(type(x))"
      ],
      "metadata": {
        "colab": {
          "base_uri": "https://localhost:8080/"
        },
        "id": "YEYTmZLc4xii",
        "outputId": "99bdaf77-d5fd-493a-ad0f-ff98ec024e19"
      },
      "execution_count": 13,
      "outputs": [
        {
          "output_type": "stream",
          "name": "stdout",
          "text": [
            "<class 'bool'>\n"
          ]
        }
      ]
    },
    {
      "cell_type": "code",
      "source": [
        "# checking the NONE datatype\n",
        "x = None\n",
        "print(type(x))"
      ],
      "metadata": {
        "colab": {
          "base_uri": "https://localhost:8080/"
        },
        "id": "1C32zt0P47hK",
        "outputId": "dda5fe09-0b90-49d8-9f95-476b9ec4b727"
      },
      "execution_count": 14,
      "outputs": [
        {
          "output_type": "stream",
          "name": "stdout",
          "text": [
            "<class 'NoneType'>\n"
          ]
        }
      ]
    }
  ]
}